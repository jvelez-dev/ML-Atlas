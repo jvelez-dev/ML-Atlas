{
 "cells": [
  {
   "cell_type": "markdown",
   "metadata": {},
   "source": [
    "## Decision Tree\n",
    "Es un modelo de decisiones y todas sus posibles soluciones. Está compuesto por condiciones (nodos de decisión - intermedios-) y resultados (nodos hoja).<br>\n",
    "Aplicado a la regresión, este algoritmo adapta la predicción a un modelo de árbol para producir una salida continua significativa, lo que quiere decir que el resultado no es discreto (no está representado por un conjunto discreto y conocido de valores).\n"
   ]
  },
  {
   "cell_type": "code",
   "execution_count": 9,
   "metadata": {
    "ExecuteTime": {
     "end_time": "2022-04-23T08:22:34.406973Z",
     "start_time": "2022-04-23T08:22:34.382975Z"
    }
   },
   "outputs": [],
   "source": [
    "import numpy as np\n",
    "from sklearn.model_selection import train_test_split\n",
    "from sklearn.metrics import mean_squared_error\n",
    "from sklearn.utils.random import check_random_state\n",
    "from sklearn.tree import DecisionTreeRegressor \n",
    "from sklearn.model_selection import cross_val_score"
   ]
  },
  {
   "cell_type": "markdown",
   "metadata": {},
   "source": [
    "### Ejemplo Decision Tree\n",
    "Se aplicará DT para predecir la distancia entre un par de puntos (x,y) y (x1,y1), uno de ellos constante.$$ d = \\sqrt{(x1-x)^2 + (y1 - y)^2} $$\n",
    "\n",
    "### Generar el conjunto de datos\n",
    "Para generar el conjunto de datos se calculará la distancia entre un conjunto de 5000 puntos (x,y) aleatorios, así, el modelo de regresión se ajustará a una proporción del 80% del conjunto y el 20% restante estará destinado a la predicción."
   ]
  },
  {
   "cell_type": "code",
   "execution_count": 3,
   "metadata": {
    "ExecuteTime": {
     "end_time": "2022-04-23T08:09:40.648217Z",
     "start_time": "2022-04-23T08:09:40.592222Z"
    }
   },
   "outputs": [],
   "source": [
    "def calcular_distancia(X,Y,XF,YF):\n",
    "    return np.round(np.sqrt(np.power(XF-X,2)+np.power(YF-Y,2)),2)\n",
    "\n",
    "XF = 5\n",
    "YF = 12.5\n",
    "\n",
    "rng = check_random_state(0)\n",
    "\n",
    "X = np.round(rng.uniform(1, 11, 10000).reshape(5000, 2),2)\n",
    "XFs=[[XF] for i in range(5000)]\n",
    "YFs=[[YF] for i in range(5000)]\n",
    "X=np.append(X, XFs, axis=1)\n",
    "X=np.append(X, YFs, axis=1)\n",
    "Y = calcular_distancia(X[:, 0],X[:, 1],XF,YF)\n",
    "x_train, x_test, y_train, y_test = train_test_split(X,Y,test_size=0.2,random_state=42)"
   ]
  },
  {
   "cell_type": "markdown",
   "metadata": {},
   "source": [
    "### Crear y ajustar el modelo\n"
   ]
  },
  {
   "cell_type": "code",
   "execution_count": 4,
   "metadata": {
    "ExecuteTime": {
     "end_time": "2022-04-23T08:10:40.833226Z",
     "start_time": "2022-04-23T08:10:40.737237Z"
    }
   },
   "outputs": [
    {
     "data": {
      "text/plain": [
       "DecisionTreeRegressor(random_state=0)"
      ]
     },
     "execution_count": 4,
     "metadata": {},
     "output_type": "execute_result"
    }
   ],
   "source": [
    "regressor = DecisionTreeRegressor(random_state = 0) \n",
    "regressor.fit(x_train, y_train)"
   ]
  },
  {
   "cell_type": "markdown",
   "metadata": {},
   "source": [
    "### Métricas\n",
    "Se utilizará la validación cruzada para garantizar que los resultados de entrenamiento son independientes de los obtenidos en las pruebas. Luego el RMSE se aplicará al conjunto predicho para medir el error entre lo obsetvado y la predicción."
   ]
  },
  {
   "cell_type": "code",
   "execution_count": 15,
   "metadata": {
    "ExecuteTime": {
     "end_time": "2022-04-23T08:33:49.111458Z",
     "start_time": "2022-04-23T08:33:48.773087Z"
    }
   },
   "outputs": [
    {
     "name": "stdout",
     "output_type": "stream",
     "text": [
      "Validación cruzada para el entrenamiento (10 particiones): \n",
      "[0.99874906 0.99894635 0.99910764 0.99874538 0.99887599 0.99883063\n",
      " 0.99881525 0.99873618 0.99916105 0.99892625]\n",
      "Validación cruzada para las pruebas: (10 particiones): \n",
      "[0.99622568 0.99646486 0.99639403 0.996946   0.99640832 0.99566325\n",
      " 0.9958722  0.99450652 0.99695227 0.99281043]\n",
      "RMSE =  0.08645750401208675\n"
     ]
    }
   ],
   "source": [
    "test_pred = regressor.predict(x_test)\n",
    "score_train = cross_val_score(regressor, x_train, y_train, cv=10)\n",
    "score_test = cross_val_score(regressor, x_test, y_test, cv=10)\n",
    "print(\"Validación cruzada para el entrenamiento (10 particiones): \")\n",
    "print(score_train)\n",
    "print(\"Validación cruzada para las pruebas: (10 particiones): \")\n",
    "print(score_test)\n",
    "rmse = np.sqrt(mean_squared_error(y_test,test_pred))\n",
    "print(\"RMSE = \",rmse)"
   ]
  },
  {
   "cell_type": "code",
   "execution_count": null,
   "metadata": {},
   "outputs": [],
   "source": []
  }
 ],
 "metadata": {
  "kernelspec": {
   "display_name": "Python 3",
   "language": "python",
   "name": "python3"
  },
  "language_info": {
   "codemirror_mode": {
    "name": "ipython",
    "version": 3
   },
   "file_extension": ".py",
   "mimetype": "text/x-python",
   "name": "python",
   "nbconvert_exporter": "python",
   "pygments_lexer": "ipython3",
   "version": "3.7.7"
  }
 },
 "nbformat": 4,
 "nbformat_minor": 4
}
