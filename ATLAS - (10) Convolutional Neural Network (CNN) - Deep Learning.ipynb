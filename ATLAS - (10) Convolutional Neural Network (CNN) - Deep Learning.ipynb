{
 "cells": [
  {
   "cell_type": "markdown",
   "metadata": {},
   "source": [
    "## Convolutional Neural Network (CNN) - Deep Learning\n",
    "Son redes de aprendizaje profundo cuyo funcionamiento es semejante al de la corteza visual del cerebro humano. Su principal utilidad apunta al procesamiento de imágenes y clasificación relacionada con la detección de patrones."
   ]
  },
  {
   "cell_type": "code",
   "execution_count": 1,
   "metadata": {
    "ExecuteTime": {
     "end_time": "2022-05-09T12:00:33.117817Z",
     "start_time": "2022-05-09T11:59:54.060020Z"
    }
   },
   "outputs": [],
   "source": [
    "import numpy as np\n",
    "import tensorflow as tf\n",
    "from keras.models import Sequential\n",
    "from keras.layers import Dense\n",
    "from keras.layers import Flatten\n",
    "from keras.layers.convolutional import Conv1D\n",
    "from keras.layers.convolutional import MaxPooling1D\n",
    "from sklearn.utils.random import check_random_state\n",
    "from matplotlib import pyplot as plt\n",
    "from sklearn.model_selection import train_test_split\n",
    "from sklearn.metrics import mean_squared_error\n",
    "from sklearn.preprocessing import MinMaxScaler"
   ]
  },
  {
   "cell_type": "markdown",
   "metadata": {},
   "source": [
    "### Ejemplo CNN\n",
    "Se aplicará una CNN para predecir la distancia entre un par de puntos (x,y) y (x1,y1), uno de ellos constante.$$ d = \\sqrt{(x1-x)^2 + (y1 - y)^2} $$\n",
    "\n",
    "### Generar el conjunto de datos\n",
    "Para generar el conjunto de datos se calculará la distancia entre un conjunto de 5000 puntos (x,y) aleatorios, así, el modelo de regresión se ajustará a una proporción del 80% del conjunto y el 20% restante estará destinado a la predicción."
   ]
  },
  {
   "cell_type": "code",
   "execution_count": 2,
   "metadata": {
    "ExecuteTime": {
     "end_time": "2022-05-09T12:00:33.205768Z",
     "start_time": "2022-05-09T12:00:33.133777Z"
    }
   },
   "outputs": [],
   "source": [
    "def calcular_distancia(X,Y,XF,YF):\n",
    "    return np.round(np.sqrt(np.power(XF-X,2)+np.power(YF-Y,2)),2)\n",
    "\n",
    "XF = 5\n",
    "YF = 12.5\n",
    "\n",
    "rng = check_random_state(0)\n",
    "\n",
    "X = np.round(rng.uniform(1, 11, 10000).reshape(5000, 2),2)\n",
    "XFs=[[XF] for i in range(5000)]\n",
    "YFs=[[YF] for i in range(5000)]\n",
    "X=np.append(X, XFs, axis=1)\n",
    "X=np.append(X, YFs, axis=1)\n",
    "Y = calcular_distancia(X[:, 0],X[:, 1],XF,YF)\n",
    "Y = Y.reshape(-1,1)"
   ]
  },
  {
   "cell_type": "markdown",
   "metadata": {},
   "source": [
    "### Proceso de transformación\n",
    "Es una práctica común, en las redes neuronales, normalizar el conjunto de datos de entrenamiento, pues se ha demostrado que las redes neuronales aprenden mejor con valores pequeños entre 0 y 1."
   ]
  },
  {
   "cell_type": "code",
   "execution_count": 3,
   "metadata": {
    "ExecuteTime": {
     "end_time": "2022-05-09T12:00:33.221769Z",
     "start_time": "2022-05-09T12:00:33.205768Z"
    }
   },
   "outputs": [],
   "source": [
    "def transformar(X,Y):\n",
    "    scaler_x = MinMaxScaler()\n",
    "    scaler_y = MinMaxScaler()\n",
    "    x_scale = scaler_x.fit_transform(X)\n",
    "    y_scale = scaler_y.fit_transform(Y)\n",
    "    return (x_scale,y_scale)"
   ]
  },
  {
   "cell_type": "markdown",
   "metadata": {},
   "source": [
    "### Construcción del modelo\n",
    "La construcción del modelo se encarga de definir la arquitectura de la red.\n",
    "En este tipo de redes el tensor de los datos de entrada debe ser 3D, por lo cual, este tensor está configurado por el tamaño del dataset, la cantidad de datos de entrada de cada registro y la cantidad de características (en este caso 1, pues la red predecirá 1 dato (la distancia))."
   ]
  },
  {
   "cell_type": "code",
   "execution_count": 4,
   "metadata": {
    "ExecuteTime": {
     "end_time": "2022-05-09T12:00:34.920042Z",
     "start_time": "2022-05-09T12:00:33.221769Z"
    }
   },
   "outputs": [],
   "source": [
    "x_scale,y_scale = transformar(X, Y)\n",
    "x_train, x_test, y_train, y_test = train_test_split(x_scale, y_scale, train_size=0.8, test_size=0.2, random_state=42)\n",
    "x_test, x_valid, y_test, y_valid = train_test_split(x_test, y_test, train_size=0.5, test_size=0.5, random_state=42)\n",
    "\n",
    "n_features = 1\n",
    "x_train = x_train.reshape((x_train.shape[0], x_train.shape[1], n_features))\n",
    "#print(X)\n",
    "# define model\n",
    "n_steps = x_train.shape[1]\n",
    "#print(n_steps)\n",
    "model = Sequential()\n",
    "model.add(Conv1D(filters=64, kernel_size=2, activation='relu', input_shape=(n_steps, n_features)))\n",
    "model.add(MaxPooling1D(pool_size=2))\n",
    "model.add(Flatten())\n",
    "model.add(Dense(32, activation='relu'))\n",
    "model.add(Dense(1))\n",
    "model.compile(optimizer='adam', loss='mse',metrics=['mse',tf.keras.metrics.RootMeanSquaredError(),tf.keras.metrics.MeanAbsoluteError()])"
   ]
  },
  {
   "cell_type": "markdown",
   "metadata": {},
   "source": [
    "### Proceso de entrenamiento, evaluación y validación del modelo\n",
    "En estos procesos es imprescindible contar con una métrica que permita valorar la precisión del modelo, en este caso, **MSE y RMSE** son las métricas usadas para tal valoración."
   ]
  },
  {
   "cell_type": "code",
   "execution_count": 5,
   "metadata": {
    "ExecuteTime": {
     "end_time": "2022-05-09T12:05:49.331527Z",
     "start_time": "2022-05-09T12:00:45.008469Z"
    }
   },
   "outputs": [
    {
     "name": "stdout",
     "output_type": "stream",
     "text": [
      "0.0014444303087464264\n"
     ]
    }
   ],
   "source": [
    "x_valid = x_valid.reshape((x_valid.shape[0], x_valid.shape[1], n_features))\n",
    "history = model.fit(x_train, y_train, epochs=1000, validation_data=(x_valid,y_valid), verbose=0)\n",
    "yhat=model.predict(x_valid, verbose=0)\n",
    "rmse = np.sqrt(mean_squared_error(y_valid,yhat))\n",
    "print(rmse)"
   ]
  },
  {
   "cell_type": "markdown",
   "metadata": {},
   "source": [
    "### Gráfica de aprendizaje\n",
    "Es una forma útil de visualizar el proceso de aprendizaje e identificar fenómenos como el overfetting. "
   ]
  },
  {
   "cell_type": "code",
   "execution_count": 6,
   "metadata": {
    "ExecuteTime": {
     "end_time": "2022-05-09T12:05:49.689307Z",
     "start_time": "2022-05-09T12:05:49.336523Z"
    }
   },
   "outputs": [
    {
     "name": "stdout",
     "output_type": "stream",
     "text": [
      "dict_keys(['loss', 'mse', 'root_mean_squared_error', 'mean_absolute_error', 'val_loss', 'val_mse', 'val_root_mean_squared_error', 'val_mean_absolute_error'])\n"
     ]
    },
    {
     "data": {
      "image/png": "[encoded data removed]",
      "text/plain": [
       "<Figure size 432x288 with 1 Axes>"
      ]
     },
     "metadata": {
      "needs_background": "light"
     },
     "output_type": "display_data"
    }
   ],
   "source": [
    "def graficar(history):\n",
    "    plt.plot(history.history['loss'], label='train')\n",
    "    plt.plot(history.history['val_loss'], label='test')\n",
    "    plt.legend()\n",
    "    plt.show()  \n",
    "\n",
    "print(history.history.keys())\n",
    "graficar(history)"
   ]
  },
  {
   "cell_type": "code",
   "execution_count": 7,
   "metadata": {
    "ExecuteTime": {
     "end_time": "2022-05-09T12:05:49.829253Z",
     "start_time": "2022-05-09T12:05:49.693304Z"
    }
   },
   "outputs": [
    {
     "name": "stdout",
     "output_type": "stream",
     "text": [
      "--------------EVALUACION------------------\n",
      "16/16 [==============================] - 0s 2ms/step - loss: 2.0864e-06 - mse: 2.0864e-06 - root_mean_squared_error: 0.0087 - mean_absolute_error: 0.0025\n",
      "Evaluación {'loss': 2.086380163746071e-06, 'mse': 2.086380163746071e-06, 'root_mean_squared_error': 0.008735443465411663, 'mean_absolute_error': 0.002480392577126622}\n",
      "\n"
     ]
    }
   ],
   "source": [
    "print(\"--------------EVALUACION------------------\")\n",
    "score = model.evaluate(x_valid,y_valid,verbose=1,return_dict=True)\n",
    "print('Evaluación '+str(score))\n",
    "print(\"\")\n"
   ]
  },
  {
   "cell_type": "code",
   "execution_count": null,
   "metadata": {},
   "outputs": [],
   "source": []
  }
 ],
 "metadata": {
  "kernelspec": {
   "display_name": "Python 3",
   "language": "python",
   "name": "python3"
  },
  "language_info": {
   "codemirror_mode": {
    "name": "ipython",
    "version": 3
   },
   "file_extension": ".py",
   "mimetype": "text/x-python",
   "name": "python",
   "nbconvert_exporter": "python",
   "pygments_lexer": "ipython3",
   "version": "3.7.7"
  }
 },
 "nbformat": 4,
 "nbformat_minor": 4
}
