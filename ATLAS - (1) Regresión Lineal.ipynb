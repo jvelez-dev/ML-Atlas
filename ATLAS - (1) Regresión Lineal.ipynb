{
 "cells": [
  {
   "cell_type": "markdown",
   "metadata": {},
   "source": [
    "## Regresión Lineal"
   ]
  },
  {
   "cell_type": "markdown",
   "metadata": {},
   "source": [
    "### Definición\n",
    "Es uno de los métodos de regresión más simples. La ventaja más grande que tiene es la facilidad en la interpretación de los resultados, ya que para ello se usa el **coeficiente de determinación** $ R^2 $ <br><br> $ R^2 $ determina la calidad del modelo para replicar los resultados, y la proporción de variación de los resultados que puede explicarse por el modelo\n",
    "\n",
    "### Tipos\n",
    "#### RL Simple\n",
    "* Para un conjunto de datos de una única entrada 'x' (variable independiente) y una única salida 'y' se trata de calcular los valores óptimos para el intercepto (punto por donde el valor predicho cruza el eje 'y)´y la pendiente de la línea de regresión estimada.\n",
    "\n",
    "#### RL Multivariada\n",
    "* En este caso el comportamiento es idéntico a la regresión simple, con la diferencia de que será más de una entrada (un array) y una única salida 'y'.\n",
    "\n",
    "#### RL Polinómica\n",
    "* Es un caso generalizado de la regresión lineal, en este tipo de regresión, además de los términos lineales, la función de regresión puede incluir términos no lineales. Recibe una o más variables independientes y el grado de la función polinómica para realizar la predicción.\n",
    "\n",
    "### Ejemplo RL Multivariada\n",
    "Se aplicará la regresión lineal para predecir la distancia entre un par de puntos (x,y) y (x1,y1), uno de ellos constante.$$ d = \\sqrt{(x1-x)^2 + (y1 - y)^2} $$<br>\n",
    "Se aplicará este tipo de regresión debido a que hay más de una variable independiente para la predicción."
   ]
  },
  {
   "cell_type": "code",
   "execution_count": 1,
   "metadata": {
    "ExecuteTime": {
     "end_time": "2022-04-26T19:35:06.607464Z",
     "start_time": "2022-04-26T19:35:03.287952Z"
    }
   },
   "outputs": [],
   "source": [
    "import numpy as np\n",
    "from sklearn.linear_model import LinearRegression\n",
    "from sklearn.preprocessing import PolynomialFeatures\n",
    "from sklearn.utils.random import check_random_state\n",
    "from sklearn.model_selection import train_test_split\n",
    "from sklearn.metrics import r2_score"
   ]
  },
  {
   "cell_type": "markdown",
   "metadata": {},
   "source": [
    "### Generar el conjunto de datos\n",
    "Para generar el conjunto de datos se calculará la distancia entre un conjunto de 5000 puntos (x,y) aleatorios, así, el modelo de regresión se ajustará a una proporción del 80% del conjunto y el 20% restante estará destinado a la predicción."
   ]
  },
  {
   "cell_type": "code",
   "execution_count": 2,
   "metadata": {
    "ExecuteTime": {
     "end_time": "2022-04-26T19:35:08.131743Z",
     "start_time": "2022-04-26T19:35:08.060002Z"
    }
   },
   "outputs": [],
   "source": [
    "def calcular_distancia(X,Y,XF,YF):\n",
    "    return np.round(np.sqrt(np.power(XF-X,2)+np.power(YF-Y,2)),2)\n",
    "\n",
    "XF = 5\n",
    "YF = 12.5\n",
    "\n",
    "rng = check_random_state(0)\n",
    "\n",
    "X = np.round(rng.uniform(1, 11, 10000).reshape(5000, 2),2)\n",
    "XFs=[[XF] for i in range(5000)]\n",
    "YFs=[[YF] for i in range(5000)]\n",
    "X=np.append(X, XFs, axis=1)\n",
    "X=np.append(X, YFs, axis=1)\n",
    "Y = calcular_distancia(X[:, 0],X[:, 1],XF,YF)\n",
    "x_train, x_test, y_train, y_test = train_test_split(X,Y,test_size=0.2,random_state=42)"
   ]
  },
  {
   "cell_type": "markdown",
   "metadata": {},
   "source": [
    "### Crear y ajustar el modelo\n",
    "Se usará el 80% de los datos (x_train, y_train) para ajustar el modelo"
   ]
  },
  {
   "cell_type": "code",
   "execution_count": 3,
   "metadata": {
    "ExecuteTime": {
     "end_time": "2022-04-26T19:35:13.909127Z",
     "start_time": "2022-04-26T19:35:12.124535Z"
    }
   },
   "outputs": [],
   "source": [
    "model = LinearRegression().fit(x_train,y_train)"
   ]
  },
  {
   "cell_type": "markdown",
   "metadata": {},
   "source": [
    "### Métrica (Coeficiente de determinanción $R^2$)"
   ]
  },
  {
   "cell_type": "code",
   "execution_count": 4,
   "metadata": {
    "ExecuteTime": {
     "end_time": "2022-04-26T19:35:15.511073Z",
     "start_time": "2022-04-26T19:35:15.490090Z"
    }
   },
   "outputs": [
    {
     "name": "stdout",
     "output_type": "stream",
     "text": [
      "Coeficiente de determinación: 0.9464075568554206\n"
     ]
    }
   ],
   "source": [
    "R2 = model.score(x_train,y_train)\n",
    "print('Coeficiente de determinación:', R2)"
   ]
  },
  {
   "cell_type": "markdown",
   "metadata": {},
   "source": [
    "### Predicciones con datos desconocidos\n",
    "Se usará el 20% de los datos (x_test,y_test) para probar el modelo de regresión con datos que no se tuvieron en cuenta en su 'entrenamiento'."
   ]
  },
  {
   "cell_type": "code",
   "execution_count": 5,
   "metadata": {
    "ExecuteTime": {
     "end_time": "2022-04-26T19:35:18.661481Z",
     "start_time": "2022-04-26T19:35:18.639490Z"
    }
   },
   "outputs": [
    {
     "name": "stdout",
     "output_type": "stream",
     "text": [
      "Coeficiente de determinación: 0.9509512200292076\n"
     ]
    }
   ],
   "source": [
    "y_new = model.predict(x_test)\n",
    "R2 = r2_score(y_test,y_new)\n",
    "print('Coeficiente de determinación:', R2)"
   ]
  },
  {
   "cell_type": "markdown",
   "metadata": {},
   "source": [
    "## Ejemplo RL Polinómica\n",
    "Una vez obtenido el conjunto de datos, las entradas deben transformarse, de manera que al conjunto de datos se le agregarán las columnas que correspondan al grado polinómico ($ X^2 $ por defecto)."
   ]
  },
  {
   "cell_type": "code",
   "execution_count": 6,
   "metadata": {
    "ExecuteTime": {
     "end_time": "2022-04-26T19:35:20.149989Z",
     "start_time": "2022-04-26T19:35:20.138997Z"
    }
   },
   "outputs": [],
   "source": [
    "transformador = PolynomialFeatures(degree = 2)\n",
    "transformador.fit(x_train)\n",
    "x_train_ = transformador.transform(x_train)"
   ]
  },
  {
   "cell_type": "markdown",
   "metadata": {
    "ExecuteTime": {
     "end_time": "2022-04-22T09:09:21.544673Z",
     "start_time": "2022-04-22T09:09:21.486706Z"
    }
   },
   "source": [
    "### Crear y ajustar el modelo\n",
    "Se usará el 80% de los datos (x_train, y_train) para ajustar el modelo"
   ]
  },
  {
   "cell_type": "code",
   "execution_count": 7,
   "metadata": {
    "ExecuteTime": {
     "end_time": "2022-04-26T19:35:22.258710Z",
     "start_time": "2022-04-26T19:35:21.979603Z"
    }
   },
   "outputs": [],
   "source": [
    "model = LinearRegression().fit(x_train_,y_train)"
   ]
  },
  {
   "cell_type": "markdown",
   "metadata": {},
   "source": [
    "### Métrica (Coeficiente de determinanción $R^2$)"
   ]
  },
  {
   "cell_type": "code",
   "execution_count": 8,
   "metadata": {
    "ExecuteTime": {
     "end_time": "2022-04-26T19:35:23.941525Z",
     "start_time": "2022-04-26T19:35:23.923537Z"
    }
   },
   "outputs": [
    {
     "name": "stdout",
     "output_type": "stream",
     "text": [
      "Coeficiente de determinación: 0.9930496608946938\n"
     ]
    }
   ],
   "source": [
    "R2 = model.score(x_train_,y_train)\n",
    "print('Coeficiente de determinación:', R2)"
   ]
  },
  {
   "cell_type": "markdown",
   "metadata": {},
   "source": [
    "### Predicciones con datos desconocidos\n",
    "Se usará el 20% de los datos (x_test,y_test) para probar el modelo de regresión con datos que no se tuvieron en cuenta en su 'entrenamiento'."
   ]
  },
  {
   "cell_type": "code",
   "execution_count": 9,
   "metadata": {
    "ExecuteTime": {
     "end_time": "2022-04-26T19:35:26.113112Z",
     "start_time": "2022-04-26T19:35:26.088124Z"
    }
   },
   "outputs": [
    {
     "name": "stdout",
     "output_type": "stream",
     "text": [
      "Coeficiente de determinación: 0.9933145339780451\n"
     ]
    }
   ],
   "source": [
    "transformador = PolynomialFeatures(degree = 2)\n",
    "transformador.fit(x_test)\n",
    "x_test = transformador.transform(x_test)\n",
    "y_new = model.predict(x_test)\n",
    "R2 = r2_score(y_test,y_new)\n",
    "print('Coeficiente de determinación:', R2)"
   ]
  },
  {
   "cell_type": "code",
   "execution_count": null,
   "metadata": {},
   "outputs": [],
   "source": []
  }
 ],
 "metadata": {
  "kernelspec": {
   "display_name": "Python 3",
   "language": "python",
   "name": "python3"
  },
  "language_info": {
   "codemirror_mode": {
    "name": "ipython",
    "version": 3
   },
   "file_extension": ".py",
   "mimetype": "text/x-python",
   "name": "python",
   "nbconvert_exporter": "python",
   "pygments_lexer": "ipython3",
   "version": "3.7.7"
  }
 },
 "nbformat": 4,
 "nbformat_minor": 4
}
