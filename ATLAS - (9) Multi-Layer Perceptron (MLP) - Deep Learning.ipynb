{
 "cells": [
  {
   "cell_type": "markdown",
   "metadata": {},
   "source": [
    "## MLP - Deep Learning\n",
    "Un perceptrón multicapa es una red neuronal que tendrá una capa de entrada con un número de entradas (X) igual al número de características, una o más capas intermedias con un número finito de neuronas determinado por experimentación o algún tipo de heurística y una capa de salida con una o más neuronas dependiendo del propósito e la red (Regresión o Clasificación)."
   ]
  },
  {
   "cell_type": "code",
   "execution_count": 1,
   "metadata": {
    "ExecuteTime": {
     "end_time": "2022-04-28T12:45:08.551788Z",
     "start_time": "2022-04-28T12:45:00.696924Z"
    }
   },
   "outputs": [],
   "source": [
    "import tensorflow as tf\n",
    "from tensorflow import keras\n",
    "import pandas as pd\n",
    "import numpy as np\n",
    "from sklearn.utils.random import check_random_state\n",
    "from sklearn.preprocessing import MinMaxScaler\n",
    "from sklearn.model_selection import train_test_split\n",
    "from tensorflow.keras import layers,models\n",
    "import matplotlib.pyplot as plt\n"
   ]
  },
  {
   "cell_type": "markdown",
   "metadata": {},
   "source": [
    "### Ejemplo MLP - Deep Learning\n",
    "Se aplicará un MLP de una sola capa intermedia y otro de 2 capas intermedias para predecir la distancia entre un par de puntos (x,y) y (x1,y1), uno de ellos constante.$$ d = \\sqrt{(x1-x)^2 + (y1 - y)^2} $$\n",
    "\n",
    "### Generar el conjunto de datos\n",
    "Para generar el conjunto de datos se calculará la distancia entre un conjunto de 5000 puntos (x,y) aleatorios, así, el modelo de regresión se ajustará a una proporción del 80% del conjunto y el 20% restante estará destinado a la predicción."
   ]
  },
  {
   "cell_type": "code",
   "execution_count": 10,
   "metadata": {
    "ExecuteTime": {
     "end_time": "2022-04-27T08:38:00.952213Z",
     "start_time": "2022-04-27T08:38:00.907241Z"
    }
   },
   "outputs": [],
   "source": [
    "def calcular_distancia(X,Y,XF,YF):\n",
    "    return np.round(np.sqrt(np.power(XF-X,2)+np.power(YF-Y,2)),2)\n",
    "\n",
    "XF = 5\n",
    "YF = 12.5\n",
    "\n",
    "rng = check_random_state(0)\n",
    "\n",
    "X = np.round(rng.uniform(1, 11, 10000).reshape(5000, 2),2)\n",
    "XFs=[[XF] for i in range(5000)]\n",
    "YFs=[[YF] for i in range(5000)]\n",
    "X=np.append(X, XFs, axis=1)\n",
    "X=np.append(X, YFs, axis=1)\n",
    "Y = calcular_distancia(X[:, 0],X[:, 1],XF,YF)\n",
    "Y = Y.reshape(-1,1)"
   ]
  },
  {
   "cell_type": "markdown",
   "metadata": {},
   "source": [
    "### Configuración de metadatos\n",
    "Los metadatos son los parámetros de la red, entre ellos:\n",
    "* La cantidad de neuronas\n",
    "* La tasa de aprendizaje\n",
    "* El número de epochs\n",
    "* El nivel de paciencia para el EarlyStopping"
   ]
  },
  {
   "cell_type": "code",
   "execution_count": 2,
   "metadata": {
    "ExecuteTime": {
     "end_time": "2022-04-27T08:36:45.879965Z",
     "start_time": "2022-04-27T08:36:45.860979Z"
    }
   },
   "outputs": [],
   "source": [
    "NEURONAS = 90\n",
    "LEARNING_RATE =0.0001\n",
    "EPOCHS = 5000\n",
    "PACIENCIA = 80"
   ]
  },
  {
   "cell_type": "markdown",
   "metadata": {},
   "source": [
    "### Proceso de transformación\n",
    "Es una práctica común, en las redes neuronales, normalizar el conjunto de datos de entrenamiento, pues se ha demostrado que las redes neuronales aprenden mejor con valores pequeños entre 0 y 1."
   ]
  },
  {
   "cell_type": "code",
   "execution_count": 11,
   "metadata": {
    "ExecuteTime": {
     "end_time": "2022-04-27T08:38:02.212255Z",
     "start_time": "2022-04-27T08:38:02.195267Z"
    }
   },
   "outputs": [],
   "source": [
    "def transformar(X,Y):\n",
    "    scaler_x = MinMaxScaler()\n",
    "    scaler_y = MinMaxScaler()\n",
    "    x_scale = scaler_x.fit_transform(X)\n",
    "    y_scale = scaler_y.fit_transform(Y)\n",
    "    return (x_scale,y_scale)"
   ]
  },
  {
   "cell_type": "markdown",
   "metadata": {},
   "source": [
    "### Construcción del modelo\n",
    "La construcción del modelo se encarga de definir la arquitectura de la red"
   ]
  },
  {
   "cell_type": "code",
   "execution_count": 22,
   "metadata": {
    "ExecuteTime": {
     "end_time": "2022-04-27T09:00:32.947995Z",
     "start_time": "2022-04-27T09:00:32.925016Z"
    }
   },
   "outputs": [],
   "source": [
    "def build_model(N,LR):\n",
    "    model = models.Sequential()\n",
    "    model.add(layers.Dense(units=N,activation='relu',input_dim=4))\n",
    "    model.add(layers.Dense(units=N/2,activation='relu'))\n",
    "    model.add(layers.Dense(units=1,activation='linear'))\n",
    "    # #cargar checkpoint\n",
    "    # #model.load_weights(\"weights.best.hdf5\")\n",
    "    \n",
    "    model.compile(optimizer= keras.optimizers.Adam(learning_rate=LR), \n",
    "                  loss='mean_squared_error',  \n",
    "                  metrics=['mse',tf.keras.metrics.RootMeanSquaredError(),tf.keras.metrics.MeanAbsoluteError()])\n",
    "    model.summary()\n",
    "    return model"
   ]
  },
  {
   "cell_type": "markdown",
   "metadata": {},
   "source": [
    "### Proceso de entrenamiento, evaluación y validación del modelo\n",
    "En estos procesos es imprescindible contar con una métrica que permita valorar la precisión del modelo, en este caso, **MSE, RMSE y MAE** son las métricas usadas para tal valoración."
   ]
  },
  {
   "cell_type": "code",
   "execution_count": 23,
   "metadata": {
    "ExecuteTime": {
     "end_time": "2022-04-27T09:00:37.563174Z",
     "start_time": "2022-04-27T09:00:37.536189Z"
    }
   },
   "outputs": [],
   "source": [
    "def entrenar_validar(model,x_train,y_train,x_valid,y_valid,x_eval,y_eval):   \n",
    "    es = keras.callbacks.EarlyStopping(monitor='loss', mode='min', patience=PACIENCIA)\n",
    "    \n",
    "    history = model.fit(x_train, y_train, epochs=EPOCHS, validation_data=(x_valid,y_valid),verbose=0,callbacks=[es])\n",
    "   \n",
    "    print(\"ETRENAMIENTO TERMINADO\")\n",
    "    print(history.history.keys())\n",
    "    print(\"\")\n",
    "    \n",
    "    eval_score = evaluar_modelo(model, x_eval, y_eval)\n",
    "    \n",
    "    return (history,eval_score)\n",
    "\n",
    "def evaluar_modelo(model,x_valid,y_valid):\n",
    "    print(\"--------------EVALUACION------------------\")\n",
    "    score = model.evaluate(x_valid,y_valid,verbose=1,return_dict=True)\n",
    "    print('Evaluación '+str(score))\n",
    "    print(\"\")\n",
    "    return score"
   ]
  },
  {
   "cell_type": "code",
   "execution_count": 24,
   "metadata": {
    "ExecuteTime": {
     "end_time": "2022-04-27T09:00:39.211383Z",
     "start_time": "2022-04-27T09:00:39.188401Z"
    }
   },
   "outputs": [],
   "source": [
    "def construir_entrenar_validar():\n",
    "    x_scale,y_scale = transformar(X, Y)\n",
    "    x_train, x_test, y_train, y_test = train_test_split(x_scale, y_scale, train_size=0.8, test_size=0.2, random_state=42)\n",
    "    x_test, x_valid, y_test, y_valid = train_test_split(x_test, y_test, train_size=0.5, test_size=0.5, random_state=42)\n",
    "    model = build_model(NEURONAS,LEARNING_RATE)\n",
    "    history,score = entrenar_validar(model, x_train, y_train, x_test, y_test, x_valid, y_valid) \n",
    "    return (model, history,score)"
   ]
  },
  {
   "cell_type": "markdown",
   "metadata": {},
   "source": [
    "### Gráfica de aprendizaje\n",
    "Es una forma útil de visualizar el proceso de aprendizaje e identificar fenómenos como el overfetting. "
   ]
  },
  {
   "cell_type": "code",
   "execution_count": 25,
   "metadata": {
    "ExecuteTime": {
     "end_time": "2022-04-27T09:00:40.771596Z",
     "start_time": "2022-04-27T09:00:40.759602Z"
    }
   },
   "outputs": [],
   "source": [
    "def graficar(history):\n",
    "    plt.plot(history.history['loss'], label='train')\n",
    "    plt.plot(history.history['val_loss'], label='test')\n",
    "    plt.legend()\n",
    "    plt.show()    \n",
    "\n",
    "#74 es el numero de modelo que sigue despues de los de la version 5. \n",
    "def generar_modelo():\n",
    "    modelo,history,eval_score = construir_entrenar_validar()\n",
    "    graficar(history)"
   ]
  },
  {
   "cell_type": "code",
   "execution_count": 21,
   "metadata": {
    "ExecuteTime": {
     "end_time": "2022-04-27T08:45:33.417724Z",
     "start_time": "2022-04-27T08:39:38.186118Z"
    }
   },
   "outputs": [
    {
     "name": "stdout",
     "output_type": "stream",
     "text": [
      "Model: \"sequential_1\"\n",
      "_________________________________________________________________\n",
      "Layer (type)                 Output Shape              Param #   \n",
      "=================================================================\n",
      "dense_2 (Dense)              (None, 90)                450       \n",
      "_________________________________________________________________\n",
      "dense_3 (Dense)              (None, 1)                 91        \n",
      "=================================================================\n",
      "Total params: 541\n",
      "Trainable params: 541\n",
      "Non-trainable params: 0\n",
      "_________________________________________________________________\n",
      "ETRENAMIENTO TERMINADO\n",
      "dict_keys(['loss', 'mse', 'root_mean_squared_error', 'mean_absolute_error', 'val_loss', 'val_mse', 'val_root_mean_squared_error', 'val_mean_absolute_error'])\n",
      "\n",
      "--------------EVALUACION------------------\n",
      "16/16 [==============================] - 0s 2ms/step - loss: 7.5207e-07 - mse: 7.5207e-07 - root_mean_squared_error: 8.6722e-04 - mean_absolute_error: 6.4017e-04\n",
      "Evaluación {'loss': 7.520717417719425e-07, 'mse': 7.520717417719425e-07, 'root_mean_squared_error': 0.0008672206895425916, 'mean_absolute_error': 0.0006401716382242739}\n",
      "\n"
     ]
    },
    {
     "data": {
      "image/png": "[encoded data removed]",
      "text/plain": [
       "<Figure size 432x288 with 1 Axes>"
      ]
     },
     "metadata": {
      "needs_background": "light"
     },
     "output_type": "display_data"
    }
   ],
   "source": [
    "generar_modelo()"
   ]
  },
  {
   "cell_type": "code",
   "execution_count": 26,
   "metadata": {
    "ExecuteTime": {
     "end_time": "2022-04-27T09:05:11.367085Z",
     "start_time": "2022-04-27T09:00:45.408744Z"
    }
   },
   "outputs": [
    {
     "name": "stdout",
     "output_type": "stream",
     "text": [
      "Model: \"sequential_2\"\n",
      "_________________________________________________________________\n",
      "Layer (type)                 Output Shape              Param #   \n",
      "=================================================================\n",
      "dense_4 (Dense)              (None, 90)                450       \n",
      "_________________________________________________________________\n",
      "dense_5 (Dense)              (None, 45)                4095      \n",
      "_________________________________________________________________\n",
      "dense_6 (Dense)              (None, 1)                 46        \n",
      "=================================================================\n",
      "Total params: 4,591\n",
      "Trainable params: 4,591\n",
      "Non-trainable params: 0\n",
      "_________________________________________________________________\n",
      "ETRENAMIENTO TERMINADO\n",
      "dict_keys(['loss', 'mse', 'root_mean_squared_error', 'mean_absolute_error', 'val_loss', 'val_mse', 'val_root_mean_squared_error', 'val_mean_absolute_error'])\n",
      "\n",
      "--------------EVALUACION------------------\n",
      "16/16 [==============================] - 0s 2ms/step - loss: 7.2014e-07 - mse: 7.2014e-07 - root_mean_squared_error: 8.4861e-04 - mean_absolute_error: 6.6225e-04\n",
      "Evaluación {'loss': 7.201425091807323e-07, 'mse': 7.201425091807323e-07, 'root_mean_squared_error': 0.0008486121078021824, 'mean_absolute_error': 0.0006622513174079359}\n",
      "\n"
     ]
    },
    {
     "data": {
      "image/png": "[encoded data removed]",
      "text/plain": [
       "<Figure size 432x288 with 1 Axes>"
      ]
     },
     "metadata": {
      "needs_background": "light"
     },
     "output_type": "display_data"
    }
   ],
   "source": [
    "generar_modelo()"
   ]
  },
  {
   "cell_type": "code",
   "execution_count": null,
   "metadata": {},
   "outputs": [],
   "source": []
  }
 ],
 "metadata": {
  "kernelspec": {
   "display_name": "Python 3",
   "language": "python",
   "name": "python3"
  },
  "language_info": {
   "codemirror_mode": {
    "name": "ipython",
    "version": 3
   },
   "file_extension": ".py",
   "mimetype": "text/x-python",
   "name": "python",
   "nbconvert_exporter": "python",
   "pygments_lexer": "ipython3",
   "version": "3.7.7"
  }
 },
 "nbformat": 4,
 "nbformat_minor": 4
}
