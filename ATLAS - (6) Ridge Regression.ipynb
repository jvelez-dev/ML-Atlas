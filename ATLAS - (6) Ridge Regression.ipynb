{
 "cells": [
  {
   "cell_type": "markdown",
   "metadata": {},
   "source": [
    "## Ridge Regression (L2)\n",
    "Es un tipo popular de regresión lineal regularizada que incluye una penalización L2. Esto tiene el efecto de reducir los coeficientes para aquellas variables de entrada que no contribuyen mucho a la tarea de predicción ya que solo se permite que las estimaciones de los parámetros se vuelvan grandes si hay una reducción proporcional en el error"
   ]
  },
  {
   "cell_type": "code",
   "execution_count": 20,
   "metadata": {
    "ExecuteTime": {
     "end_time": "2022-04-23T16:47:26.170265Z",
     "start_time": "2022-04-23T16:47:26.152280Z"
    }
   },
   "outputs": [],
   "source": [
    "import numpy as np\n",
    "from sklearn.model_selection import train_test_split\n",
    "from sklearn.metrics import mean_squared_error\n",
    "from sklearn.utils.random import check_random_state\n",
    "from sklearn.linear_model import Ridge\n",
    "from sklearn.model_selection import cross_val_score\n",
    "from sklearn.model_selection import RepeatedKFold\n",
    "from sklearn.model_selection import GridSearchCV"
   ]
  },
  {
   "cell_type": "markdown",
   "metadata": {},
   "source": [
    "### Ejemplo Ridge Regression\n",
    "Se aplicará Ridge Regression para predecir la distancia entre un par de puntos (x,y) y (x1,y1), uno de ellos constante.$$ d = \\sqrt{(x1-x)^2 + (y1 - y)^2} $$\n",
    "\n",
    "### Generar el conjunto de datos\n",
    "Para generar el conjunto de datos se calculará la distancia entre un conjunto de 5000 puntos (x,y) aleatorios, así, el modelo de regresión se ajustará a una proporción del 80% del conjunto y el 20% restante estará destinado a la predicción."
   ]
  },
  {
   "cell_type": "code",
   "execution_count": 2,
   "metadata": {
    "ExecuteTime": {
     "end_time": "2022-04-23T15:15:24.101820Z",
     "start_time": "2022-04-23T15:15:24.054852Z"
    }
   },
   "outputs": [],
   "source": [
    "def calcular_distancia(X,Y,XF,YF):\n",
    "    return np.round(np.sqrt(np.power(XF-X,2)+np.power(YF-Y,2)),2)\n",
    "\n",
    "XF = 5\n",
    "YF = 12.5\n",
    "\n",
    "rng = check_random_state(0)\n",
    "\n",
    "X = np.round(rng.uniform(1, 11, 10000).reshape(5000, 2),2)\n",
    "XFs=[[XF] for i in range(5000)]\n",
    "YFs=[[YF] for i in range(5000)]\n",
    "X=np.append(X, XFs, axis=1)\n",
    "X=np.append(X, YFs, axis=1)\n",
    "Y = calcular_distancia(X[:, 0],X[:, 1],XF,YF)\n",
    "x_train, x_test, y_train, y_test = train_test_split(X,Y,test_size=0.2,random_state=42)"
   ]
  },
  {
   "cell_type": "markdown",
   "metadata": {},
   "source": [
    "### Crear y ajustar el modelo\n",
    "El parámetro alpha corresponde a qué tan fuerte será la regularización. La regularización mejora el condicionamiento del problema y reduce la varianza de las estimaciones. El valor 1.0 indica que se aplicará una penalidad completa.<br>\n",
    "Número de divisiones (K-Fold) del conjunto de datos para el entrenamiento (n_splits=10) inicialmente tomará el prier subconjunto como validación y los demás de entrenamiento, luego el segundo bloque será de validación y el resto de prueba y así sucesivamente; en este caso el proceso se repetirá 3 veces (n_repeats=3).<br>"
   ]
  },
  {
   "cell_type": "code",
   "execution_count": 28,
   "metadata": {
    "ExecuteTime": {
     "end_time": "2022-04-23T17:09:47.929350Z",
     "start_time": "2022-04-23T17:09:45.936446Z"
    }
   },
   "outputs": [
    {
     "name": "stdout",
     "output_type": "stream",
     "text": [
      "Scores: \n",
      "[0.40981546 0.38312434 0.44106025 0.39037346 0.42854711 0.40420448\n",
      " 0.36709039 0.37242877 0.39601216 0.31145678 0.4099477  0.32260602\n",
      " 0.39437493 0.41433177 0.38240475 0.41114641 0.3611454  0.33944632\n",
      " 0.42410755 0.44214232 0.42428078 0.46972107 0.34799625 0.43431757\n",
      " 0.37465527 0.37878345 0.39545227 0.35123778 0.35547861 0.37420971]\n",
      "\n",
      "Media de RMSE para los scores =  0.39039663649084816\n"
     ]
    }
   ],
   "source": [
    "model = Ridge(alpha=1.0)\n",
    "cv = RepeatedKFold(n_splits=10, n_repeats=3, random_state=1)\n",
    "scores = cross_val_score(model, x_train, y_train, scoring='neg_mean_squared_error', cv=cv, n_jobs=-1)\n",
    "scores = np.abs(scores)\n",
    "print(\"Scores: \")\n",
    "print(scores)\n",
    "print()\n",
    "print(\"Media de RMSE para los scores = \",np.mean(scores))"
   ]
  },
  {
   "cell_type": "markdown",
   "metadata": {},
   "source": [
    "### Métricas\n",
    "Se usará el GridSearch para buscar el valor optimizado de alpha, y luego, la métrica utilizada para medir el error sera RMSE."
   ]
  },
  {
   "cell_type": "code",
   "execution_count": 29,
   "metadata": {
    "ExecuteTime": {
     "end_time": "2022-04-23T17:10:04.042389Z",
     "start_time": "2022-04-23T17:09:59.843300Z"
    }
   },
   "outputs": [
    {
     "name": "stdout",
     "output_type": "stream",
     "text": [
      "RMSE para el entrenamiento: 0.625\n",
      "Config: {'alpha': 0.99}\n",
      "RMSE para las predicciones =  0.6015138700543935\n"
     ]
    }
   ],
   "source": [
    "grid = dict()\n",
    "grid['alpha'] = np.arange(0, 1, 0.01)\n",
    "search = GridSearchCV(model, grid, scoring='neg_mean_squared_error', cv=cv, n_jobs=-1)\n",
    "resultado = search.fit(x_train,y_train)\n",
    "print('RMSE para el entrenamiento: %.3f' % np.sqrt(np.abs(resultado.best_score_)))\n",
    "print('Config: %s' % resultado.best_params_)\n",
    "\n",
    "tst_predict = search.predict(x_test)\n",
    "rmse = np.sqrt(mean_squared_error(y_test,tst_predict))\n",
    "print(\"RMSE para las predicciones = \",rmse)\n"
   ]
  },
  {
   "cell_type": "code",
   "execution_count": null,
   "metadata": {},
   "outputs": [],
   "source": []
  }
 ],
 "metadata": {
  "kernelspec": {
   "display_name": "Python 3",
   "language": "python",
   "name": "python3"
  },
  "language_info": {
   "codemirror_mode": {
    "name": "ipython",
    "version": 3
   },
   "file_extension": ".py",
   "mimetype": "text/x-python",
   "name": "python",
   "nbconvert_exporter": "python",
   "pygments_lexer": "ipython3",
   "version": "3.7.7"
  }
 },
 "nbformat": 4,
 "nbformat_minor": 4
}
