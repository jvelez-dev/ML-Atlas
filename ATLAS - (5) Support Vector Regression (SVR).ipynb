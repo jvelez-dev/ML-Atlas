{
 "cells": [
  {
   "cell_type": "markdown",
   "metadata": {},
   "source": [
    "## Support Vector Regression(SVR)\n",
    "Es una técnica derivada de las SVM que proxima los mejores valores de predicción mediante un margen establecido (epsilon-tube). El objetivo de un SVR es encajar tantas instancias como sea posible respetando dicho margen."
   ]
  },
  {
   "cell_type": "code",
   "execution_count": 1,
   "metadata": {
    "ExecuteTime": {
     "end_time": "2022-04-23T14:49:51.248868Z",
     "start_time": "2022-04-23T14:49:49.455826Z"
    }
   },
   "outputs": [],
   "source": [
    "import numpy as np\n",
    "from sklearn.model_selection import train_test_split\n",
    "from sklearn.metrics import mean_squared_error\n",
    "from sklearn.utils.random import check_random_state\n",
    "from sklearn.svm import SVR"
   ]
  },
  {
   "cell_type": "markdown",
   "metadata": {},
   "source": [
    "### Ejemplo SVR\n",
    "Se aplicará SVR para predecir la distancia entre un par de puntos (x,y) y (x1,y1), uno de ellos constante.$$ d = \\sqrt{(x1-x)^2 + (y1 - y)^2} $$\n",
    "\n",
    "### Generar el conjunto de datos\n",
    "Para generar el conjunto de datos se calculará la distancia entre un conjunto de 5000 puntos (x,y) aleatorios, así, el modelo de regresión se ajustará a una proporción del 80% del conjunto y el 20% restante estará destinado a la predicción."
   ]
  },
  {
   "cell_type": "code",
   "execution_count": 2,
   "metadata": {
    "ExecuteTime": {
     "end_time": "2022-04-23T14:49:51.328818Z",
     "start_time": "2022-04-23T14:49:51.253865Z"
    }
   },
   "outputs": [],
   "source": [
    "def calcular_distancia(X,Y,XF,YF):\n",
    "    return np.round(np.sqrt(np.power(XF-X,2)+np.power(YF-Y,2)),2)\n",
    "\n",
    "XF = 5\n",
    "YF = 12.5\n",
    "\n",
    "rng = check_random_state(0)\n",
    "\n",
    "X = np.round(rng.uniform(1, 11, 10000).reshape(5000, 2),2)\n",
    "XFs=[[XF] for i in range(5000)]\n",
    "YFs=[[YF] for i in range(5000)]\n",
    "X=np.append(X, XFs, axis=1)\n",
    "X=np.append(X, YFs, axis=1)\n",
    "Y = calcular_distancia(X[:, 0],X[:, 1],XF,YF)\n",
    "x_train, x_test, y_train, y_test = train_test_split(X,Y,test_size=0.2,random_state=42)"
   ]
  },
  {
   "cell_type": "markdown",
   "metadata": {},
   "source": [
    "### Crear y ajustar el modelo\n",
    "En SVR hay 3 tipos de funciones para la regresión:\n",
    "1. RBF o función de base radial\n",
    "2. LIN o función lineal\n",
    "3. POLY o función polinómica"
   ]
  },
  {
   "cell_type": "code",
   "execution_count": 3,
   "metadata": {
    "ExecuteTime": {
     "end_time": "2022-04-23T15:06:53.177509Z",
     "start_time": "2022-04-23T14:50:04.238494Z"
    }
   },
   "outputs": [
    {
     "data": {
      "text/plain": [
       "SVR(C=100, coef0=1, gamma='auto', kernel='poly')"
      ]
     },
     "execution_count": 3,
     "metadata": {},
     "output_type": "execute_result"
    }
   ],
   "source": [
    "svr_rbf = SVR(kernel=\"rbf\", C=100, gamma=0.1, epsilon=0.1)\n",
    "svr_lin = SVR(kernel=\"linear\", C=100, gamma=\"auto\")\n",
    "svr_poly = SVR(kernel=\"poly\", C=100, gamma=\"auto\", degree=3, epsilon=0.1, coef0=1)\n",
    "\n",
    "svr_rbf.fit(x_train, y_train)\n",
    "svr_lin.fit(x_train, y_train)\n",
    "svr_poly.fit(x_train, y_train)"
   ]
  },
  {
   "cell_type": "markdown",
   "metadata": {},
   "source": [
    "### Métricas\n",
    "Se utilizará el RMSE para medir el error entre lo obsetvado y la predicción."
   ]
  },
  {
   "cell_type": "code",
   "execution_count": 4,
   "metadata": {
    "ExecuteTime": {
     "end_time": "2022-04-23T15:06:53.286444Z",
     "start_time": "2022-04-23T15:06:53.181507Z"
    }
   },
   "outputs": [
    {
     "name": "stdout",
     "output_type": "stream",
     "text": [
      "RMSE para SVR con RBF =  0.05951774573998056\n",
      "RMSE para SVR con función polinómica =  6.677393209908468\n"
     ]
    }
   ],
   "source": [
    "tst_pred = svr_rbf.predict(x_test)\n",
    "rmse = np.sqrt(mean_squared_error(y_test,tst_pred))\n",
    "print(\"RMSE para SVR con RBF = \",rmse)\n",
    "#tst_pred = svr_lin.predict(x_test)\n",
    "#rmse = np.sqrt(mean_squared_error(y_test,tst_pred))\n",
    "#print(\"RMSE para SVR con función lineal = \",rmse)\n",
    "tst_pred = svr_poly.predict(x_test)\n",
    "rmse = np.sqrt(mean_squared_error(y_test,tst_pred))\n",
    "print(\"RMSE para SVR con función polinómica = \",rmse)"
   ]
  },
  {
   "cell_type": "code",
   "execution_count": null,
   "metadata": {},
   "outputs": [],
   "source": []
  }
 ],
 "metadata": {
  "kernelspec": {
   "display_name": "Python 3",
   "language": "python",
   "name": "python3"
  },
  "language_info": {
   "codemirror_mode": {
    "name": "ipython",
    "version": 3
   },
   "file_extension": ".py",
   "mimetype": "text/x-python",
   "name": "python",
   "nbconvert_exporter": "python",
   "pygments_lexer": "ipython3",
   "version": "3.7.7"
  }
 },
 "nbformat": 4,
 "nbformat_minor": 4
}
