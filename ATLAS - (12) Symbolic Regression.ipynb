{
 "cells": [
  {
   "cell_type": "code",
   "execution_count": 5,
   "metadata": {
    "ExecuteTime": {
     "end_time": "2022-05-11T17:42:51.821958Z",
     "start_time": "2022-05-11T17:42:51.707177Z"
    }
   },
   "outputs": [
    {
     "name": "stdout",
     "output_type": "stream",
     "text": [
      "Populating the interactive namespace from numpy and matplotlib\n"
     ]
    },
    {
     "name": "stderr",
     "output_type": "stream",
     "text": [
      "C:\\Users\\JVelez\\Anaconda3\\lib\\site-packages\\IPython\\core\\magics\\pylab.py:160: UserWarning: pylab import has clobbered these variables: ['array', 'zeros', 'Line2D', 'maximum', 'Polygon', 'sinh', 'gamma', 'add', 'sin', 'conjugate', 'exp', 'gcd', 'sign', 'vectorize', 'floor', 'flatten', 'take', 'reshape', 'beta', 'sqrt', 'fft', 'pi', 'trunc', 'mod', 'trace', 're', 'log', 'power', 'Circle', 'interactive', 'tanh', 'diag', 'det', 'plot', 'roots', 'minimum', 'poly', 'transpose', 'multinomial', 'var', 'prod', 'source', 'invert', 'binomial', 'ifft', 'seterr', 'Number', 'cosh', 'nan', 'product', 'diff', 'sinc', 'test', 'plotting', 'eye', 'solve', 'ones', 'tan', 'partition', 'cos', 'lcm', 'cbrt']\n",
      "`%matplotlib` prevents importing * from pylab and numpy\n",
      "  \"\\n`%matplotlib` prevents importing * from pylab and numpy\"\n"
     ]
    }
   ],
   "source": [
    "%pylab inline \n",
    "%matplotlib notebook\n",
    "from gplearn.genetic import SymbolicRegressor\n",
    "from sklearn.ensemble import RandomForestRegressor\n",
    "from sklearn.tree import DecisionTreeRegressor\n",
    "from sklearn.utils.random import check_random_state\n",
    "from mpl_toolkits.mplot3d import Axes3D\n",
    "import matplotlib.pyplot as plt\n",
    "import numpy as np\n",
    "import graphviz\n",
    "from sklearn.model_selection import train_test_split\n",
    "from sympy import *"
   ]
  },
  {
   "cell_type": "markdown",
   "metadata": {},
   "source": [
    "## Se deducirá la ecuación para calcular la distancia entre 2 puntos en un plano 2D\n",
    "* El primer punto será la ubicación de la fuente\n",
    "* El segndo punto será la ubicación de un punto en el espacio que puede verse afectado por la fuente\n",
    "\n",
    "dst = $\\sqrt{(x_2-x_1)^2 + (y_2-y_1)^2}$"
   ]
  },
  {
   "cell_type": "markdown",
   "metadata": {},
   "source": [
    "### Generación / Carga de la data"
   ]
  },
  {
   "cell_type": "code",
   "execution_count": 23,
   "metadata": {
    "ExecuteTime": {
     "end_time": "2022-05-11T20:11:21.859314Z",
     "start_time": "2022-05-11T20:11:21.778457Z"
    }
   },
   "outputs": [],
   "source": [
    "def calcular_distancia(X,Y,XF,YF):\n",
    "    return np.round(np.sqrt(np.power(XF-X,2)+np.power(YF-Y,2)),2)\n",
    "\n",
    "\n",
    "XF = 5\n",
    "YF = 12.5\n",
    "X = np.arange(1, 11, 1).reshape(5,2)\n",
    "\n",
    "rng = check_random_state(0)\n",
    "\n",
    "# Entrenamiento\n",
    "X_train = np.round(rng.uniform(1, 11, 10000).reshape(5000, 2),2)\n",
    "XFs=[[XF] for i in range(5000)]\n",
    "YFs=[[YF] for i in range(5000)]\n",
    "X_train=np.append(X_train, XFs, axis=1)\n",
    "X_train=np.append(X_train, YFs, axis=1)\n",
    "y_train = calcular_distancia(X_train[:, 0],X_train[:, 1],XF,YF)\n",
    "\n",
    "# Testing\n",
    "X_test = np.round(rng.uniform(1, 11, 10000).reshape(5000, 2),2)\n",
    "X_test=np.append(X_test, XFs, axis=1)\n",
    "X_test=np.append(X_test, YFs, axis=1)\n",
    "y_test = calcular_distancia(X_test[:, 0],X_test[:, 1],XF,YF)\n"
   ]
  },
  {
   "cell_type": "markdown",
   "metadata": {},
   "source": [
    "### Se configura el regresor simbólico"
   ]
  },
  {
   "cell_type": "code",
   "execution_count": 8,
   "metadata": {
    "ExecuteTime": {
     "end_time": "2022-05-11T17:43:10.542468Z",
     "start_time": "2022-05-11T17:43:10.516486Z"
    }
   },
   "outputs": [],
   "source": [
    "est_gp = SymbolicRegressor(population_size=10000, \n",
    "                           generations=100, stopping_criteria=0.01, \n",
    "                           p_crossover=0.7, p_subtree_mutation=0.1,\n",
    "                           p_hoist_mutation=0.05,  \n",
    "                           p_point_mutation=0.1,\n",
    "                           max_samples=0.9, verbose=1,\n",
    "                           parsimony_coefficient=0.01, random_state=0)\n"
   ]
  },
  {
   "cell_type": "markdown",
   "metadata": {},
   "source": [
    "### Se busca el modelo"
   ]
  },
  {
   "cell_type": "code",
   "execution_count": 9,
   "metadata": {
    "ExecuteTime": {
     "end_time": "2022-05-11T18:18:25.484432Z",
     "start_time": "2022-05-11T17:43:12.713989Z"
    }
   },
   "outputs": [
    {
     "name": "stdout",
     "output_type": "stream",
     "text": [
      "    |   Population Average    |             Best Individual              |\n",
      "---- ------------------------- ------------------------------------------ ----------\n",
      " Gen   Length          Fitness   Length          Fitness      OOB Fitness  Time Left\n",
      "   0    31.60      4.31824e+07        5         0.671528         0.631441     47.67m\n",
      "   1     9.97          264.467        9         0.584092          0.61152     29.52m\n",
      "   2     8.75          499.797       25         0.507857          0.51803     28.88m\n",
      "   3     6.35          18.1697       11          0.49913         0.488104     28.24m\n",
      "   4     6.28          27.7287       17          0.48868         0.500286     24.33m\n",
      "   5     6.40          342.004       13         0.485425         0.530812     25.16m\n",
      "   6     7.31          476.203       13          0.40818         0.406998     25.13m\n",
      "   7     7.42          21.9343       13         0.406451         0.422558     24.69m\n",
      "   8     7.30           320.78       13          0.34791          0.36896     25.21m\n",
      "   9     7.33          423.361       13         0.349443         0.355156     24.71m\n",
      "  10     8.15          48.6128       13         0.346047         0.385723     24.47m\n",
      "  11    10.20          43.4517       15         0.319837         0.332345     25.52m\n",
      "  12    12.57           9.8935       15         0.318225         0.346861     33.92m\n",
      "  13    12.90          7.58713       15         0.318208         0.347009     41.12m\n",
      "  14    12.99          8.94356       15          0.31562         0.370304     40.53m\n",
      "  15    13.39          9.52978       15         0.316564         0.361805     42.00m\n",
      "  16    14.06          356.461       15         0.315745         0.369175     38.88m\n",
      "  17    14.78          8.09369       15         0.315627         0.370242     27.53m\n",
      "  18    14.88          161.376       15         0.315818         0.368521     27.44m\n",
      "  19    14.95          47.9229       15          0.31524         0.373718     29.51m\n",
      "  20    15.00          8.25992       15         0.314813         0.377567     28.41m\n",
      "  21    14.81          5.41323       15         0.314893         0.376842     26.91m\n",
      "  22    14.88          70.5152       15         0.316207         0.365022     26.25m\n",
      "  23    14.86          67.9726       15         0.315229          0.37382     26.10m\n",
      "  24    14.88          1514.97       15         0.316246         0.364671     25.28m\n",
      "  25    14.95          8.34874       15         0.315722         0.369379     24.96m\n",
      "  26    14.94          110.816       15         0.315451         0.371824     24.46m\n",
      "  27    14.79          241.842       15         0.315462         0.371723     25.70m\n",
      "  28    14.78          10.9984       15         0.315169          0.37436     24.08m\n",
      "  29    14.97          20.2582       15         0.315713         0.369467     23.40m\n",
      "  30    14.90          6.41989       15         0.315593         0.370544     24.07m\n",
      "  31    14.83          18.4132       15         0.315027         0.375641     23.44m\n",
      "  32    14.85          360.244       15         0.315455         0.371787     22.26m\n",
      "  33    14.92          11.1923       15         0.314419          0.38111     21.84m\n",
      "  34    14.99          1216.71       15         0.316095         0.366026     22.96m\n",
      "  35    14.87          13.8707       15         0.315768         0.368967     21.61m\n",
      "  36    14.90          37163.4       15         0.315092         0.375057     20.81m\n",
      "  37    14.88          12.2814       15         0.315005         0.375839     20.50m\n",
      "  38    14.95          9.48221       15         0.315877         0.367991     20.91m\n",
      "  39    14.96          9.50789       15         0.315573         0.370727     19.91m\n",
      "  40    14.94          21.0606       15         0.314786          0.37781     20.62m\n",
      "  41    14.94          6.34069       15         0.314756         0.378079     19.60m\n",
      "  42    14.90          1703.54       15         0.315764         0.369009     19.48m\n",
      "  43    14.85          27.1336       15         0.314819         0.377507     21.41m\n",
      "  44    14.96          16.0009       15         0.315205         0.374034     18.97m\n",
      "  45    14.87          7.08118       15         0.315289         0.373279     19.45m\n",
      "  46    14.99          10.6843       15          0.31489         0.376875     18.93m\n",
      "  47    14.91          9.82419       15         0.316036         0.366554     17.70m\n",
      "  48    14.97          22.4234       15         0.314935         0.376463     17.97m\n",
      "  49    14.95          334.928       15         0.315197         0.374109     17.52m\n",
      "  50    14.99           17.388       15         0.315303         0.373154     17.86m\n",
      "  51    14.80          17.4743       15         0.315473         0.371627     16.66m\n",
      "  52    14.87           8.6223       15          0.31349         0.389471     16.52m\n",
      "  53    15.03          688.291       15         0.313477         0.389588     16.50m\n",
      "  54    14.94          7.12444       15         0.314895         0.376831     16.61m\n",
      "  55    15.02          804.618       15         0.315182         0.374241     15.83m\n",
      "  56    14.94          9.77226       15         0.314498         0.380402     14.41m\n",
      "  57    14.87          32.2734       15         0.314419         0.381111     14.38m\n",
      "  58    14.82          7.98285       15          0.31506         0.375344     14.92m\n",
      "  59    14.89          144.805       15          0.31547         0.371652     13.84m\n",
      "  60    14.93          59.8088       15         0.315398         0.372297     13.43m\n",
      "  61    14.88          47533.6       15         0.315372         0.372533     12.91m\n",
      "  62    14.95           8.7659       15         0.315422          0.37208     12.55m\n",
      "  63    14.92          186.869       15         0.316444         0.362887     12.76m\n",
      "  64    14.97          20.7351       15         0.316001         0.366876     11.77m\n",
      "  65    14.92          40.7064       15          0.31567         0.369853     11.94m\n",
      "  66    14.98          250.362       15          0.31555         0.370929     11.85m\n",
      "  67    14.93          46.5123       15          0.31584         0.368324     11.67m\n",
      "  68    14.85          4.82644       15         0.315343         0.372793     10.70m\n",
      "  69    14.93          243.977       15          0.31578         0.368862     10.13m\n",
      "  70    14.94          15.6317       15         0.314643         0.379092      9.78m\n",
      "  71    14.80          50.5677       15         0.315653         0.370006      9.43m\n",
      "  72    14.96          53.4863       15         0.315838         0.368343      9.54m\n",
      "  73    14.91          7.84045       15         0.315547         0.370956      8.92m\n",
      "  74    15.08           15.481       15         0.314211         0.382979      8.69m\n",
      "  75    14.90          955.209       15         0.315362         0.372623      8.31m\n",
      "  76    14.93          21766.2       15         0.313716         0.387438      8.73m\n",
      "  77    14.87          367.941       15         0.315367         0.372583      7.95m\n",
      "  78    14.92          15.6414       15         0.315204         0.374047      7.60m\n",
      "  79    14.91          30.7857       15         0.315526         0.371147      7.11m\n",
      "  80    14.93          8.17099       15         0.315823         0.368479      6.83m\n",
      "  81    14.85           1155.7       15          0.31568          0.36976      6.87m\n",
      "  82    14.99           37.245       15           0.3156         0.370482      6.27m\n",
      "  83    14.84          43.8458       15         0.313951         0.385326      5.89m\n",
      "  84    14.86          7.64228       15         0.316207         0.365023      5.46m\n",
      "  85    14.88          31.5777       15         0.314635         0.379168      6.86m\n",
      "  86    14.91           8.7024       15         0.315426          0.37205      4.82m\n",
      "  87    14.87          6.78321       15         0.315423         0.372071      4.73m\n",
      "  88    14.87          6400.07       15         0.315247         0.373659      4.09m\n",
      "  89    14.95          40.9596       15         0.316204         0.365042      3.61m\n",
      "  90    15.02          533.329       15         0.315535         0.371066      3.46m\n",
      "  91    14.94          8.74223       15         0.315165           0.3744      2.94m\n",
      "  92    14.89          37266.4       15         0.315452         0.369184      2.53m\n",
      "  93    14.86          716.565       15         0.315423         0.372073      2.17m\n"
     ]
    },
    {
     "name": "stdout",
     "output_type": "stream",
     "text": [
      "  94    15.02          6.89777       15         0.315284         0.373324      1.75m\n",
      "  95    14.95          17.6274       15         0.315683         0.369736      1.42m\n",
      "  96    14.92          106.149       15          0.31613         0.365714      1.03m\n",
      "  97    14.90          470.167       15         0.315607          0.37042     42.23s\n",
      "  98    14.90          23.6988       15         0.315363         0.372613     21.72s\n",
      "  99    14.81          7.38794       15          0.31564         0.367487      0.00s\n"
     ]
    },
    {
     "data": {
      "text/plain": [
       "SymbolicRegressor(generations=100, max_samples=0.9, p_crossover=0.7,\n",
       "                  p_hoist_mutation=0.05, p_point_mutation=0.1,\n",
       "                  p_subtree_mutation=0.1, parsimony_coefficient=0.01,\n",
       "                  population_size=10000, random_state=0, stopping_criteria=0.01,\n",
       "                  verbose=1)"
      ]
     },
     "execution_count": 9,
     "metadata": {},
     "output_type": "execute_result"
    }
   ],
   "source": [
    "est_gp.fit(X_train, y_train)"
   ]
  },
  {
   "cell_type": "markdown",
   "metadata": {},
   "source": [
    "### Imprimir la solución"
   ]
  },
  {
   "cell_type": "code",
   "execution_count": 10,
   "metadata": {
    "ExecuteTime": {
     "end_time": "2022-05-11T18:49:48.495918Z",
     "start_time": "2022-05-11T18:49:48.471922Z"
    }
   },
   "outputs": [
    {
     "name": "stdout",
     "output_type": "stream",
     "text": [
      "add(sub(X3, X1), div(mul(0.864, X0), mul(div(X3, X1), sub(X3, X0))))\n"
     ]
    }
   ],
   "source": [
    "print(est_gp._program)"
   ]
  },
  {
   "cell_type": "markdown",
   "metadata": {},
   "source": [
    "### Se visualiza"
   ]
  },
  {
   "cell_type": "code",
   "execution_count": 11,
   "metadata": {
    "ExecuteTime": {
     "end_time": "2022-05-11T18:49:51.511933Z",
     "start_time": "2022-05-11T18:49:50.241104Z"
    }
   },
   "outputs": [
    {
     "data": {
      "image/svg+xml": [
       "<?xml version=\"1.0\" encoding=\"UTF-8\" standalone=\"no\"?>\r\n",
       "<!DOCTYPE svg PUBLIC \"-//W3C//DTD SVG 1.1//EN\"\r\n",
       " \"http://www.w3.org/Graphics/SVG/1.1/DTD/svg11.dtd\">\r\n",
       "<!-- Generated by graphviz version 2.38.0 (20140413.2041)\r\n",
       " -->\r\n",
       "<!-- Title: program Pages: 1 -->\r\n",
       "<svg width=\"422pt\" height=\"332pt\"\r\n",
       " viewBox=\"0.00 0.00 422.00 332.00\" xmlns=\"http://www.w3.org/2000/svg\" xmlns:xlink=\"http://www.w3.org/1999/xlink\">\r\n",
       "<g id=\"graph0\" class=\"graph\" transform=\"scale(1 1) rotate(0) translate(4 328)\">\r\n",
       "<title>program</title>\r\n",
       "<polygon fill=\"white\" stroke=\"none\" points=\"-4,4 -4,-328 418,-328 418,4 -4,4\"/>\r\n",
       "<!-- 0 -->\r\n",
       "<g id=\"node1\" class=\"node\"><title>0</title>\r\n",
       "<ellipse fill=\"#136ed4\" stroke=\"black\" cx=\"135\" cy=\"-306\" rx=\"27\" ry=\"18\"/>\r\n",
       "<text text-anchor=\"middle\" x=\"135\" y=\"-302.3\" font-family=\"Times New Roman,serif\" font-size=\"14.00\">add</text>\r\n",
       "</g>\r\n",
       "<!-- 1 -->\r\n",
       "<g id=\"node2\" class=\"node\"><title>1</title>\r\n",
       "<ellipse fill=\"#136ed4\" stroke=\"black\" cx=\"99\" cy=\"-234\" rx=\"27\" ry=\"18\"/>\r\n",
       "<text text-anchor=\"middle\" x=\"99\" y=\"-230.3\" font-family=\"Times New Roman,serif\" font-size=\"14.00\">sub</text>\r\n",
       "</g>\r\n",
       "<!-- 0&#45;&gt;1 -->\r\n",
       "<g id=\"edge14\" class=\"edge\"><title>0&#45;&gt;1</title>\r\n",
       "<path fill=\"none\" stroke=\"black\" d=\"M126.65,-288.765C122.288,-280.283 116.853,-269.714 111.959,-260.197\"/>\r\n",
       "<polygon fill=\"black\" stroke=\"black\" points=\"114.99,-258.439 107.304,-251.147 108.765,-261.641 114.99,-258.439\"/>\r\n",
       "</g>\r\n",
       "<!-- 4 -->\r\n",
       "<g id=\"node5\" class=\"node\"><title>4</title>\r\n",
       "<ellipse fill=\"#136ed4\" stroke=\"black\" cx=\"171\" cy=\"-234\" rx=\"27\" ry=\"18\"/>\r\n",
       "<text text-anchor=\"middle\" x=\"171\" y=\"-230.3\" font-family=\"Times New Roman,serif\" font-size=\"14.00\">div</text>\r\n",
       "</g>\r\n",
       "<!-- 0&#45;&gt;4 -->\r\n",
       "<g id=\"edge13\" class=\"edge\"><title>0&#45;&gt;4</title>\r\n",
       "<path fill=\"none\" stroke=\"black\" d=\"M143.35,-288.765C147.712,-280.283 153.147,-269.714 158.041,-260.197\"/>\r\n",
       "<polygon fill=\"black\" stroke=\"black\" points=\"161.235,-261.641 162.696,-251.147 155.01,-258.439 161.235,-261.641\"/>\r\n",
       "</g>\r\n",
       "<!-- 2 -->\r\n",
       "<g id=\"node3\" class=\"node\"><title>2</title>\r\n",
       "<ellipse fill=\"#60a6f6\" stroke=\"black\" cx=\"27\" cy=\"-162\" rx=\"27\" ry=\"18\"/>\r\n",
       "<text text-anchor=\"middle\" x=\"27\" y=\"-158.3\" font-family=\"Times New Roman,serif\" font-size=\"14.00\">X3</text>\r\n",
       "</g>\r\n",
       "<!-- 1&#45;&gt;2 -->\r\n",
       "<g id=\"edge2\" class=\"edge\"><title>1&#45;&gt;2</title>\r\n",
       "<path fill=\"none\" stroke=\"black\" d=\"M84.4297,-218.834C74.2501,-208.938 60.4761,-195.546 48.9694,-184.359\"/>\r\n",
       "<polygon fill=\"black\" stroke=\"black\" points=\"51.4055,-181.846 41.7957,-177.385 46.5259,-186.865 51.4055,-181.846\"/>\r\n",
       "</g>\r\n",
       "<!-- 3 -->\r\n",
       "<g id=\"node4\" class=\"node\"><title>3</title>\r\n",
       "<ellipse fill=\"#60a6f6\" stroke=\"black\" cx=\"99\" cy=\"-162\" rx=\"27\" ry=\"18\"/>\r\n",
       "<text text-anchor=\"middle\" x=\"99\" y=\"-158.3\" font-family=\"Times New Roman,serif\" font-size=\"14.00\">X1</text>\r\n",
       "</g>\r\n",
       "<!-- 1&#45;&gt;3 -->\r\n",
       "<g id=\"edge1\" class=\"edge\"><title>1&#45;&gt;3</title>\r\n",
       "<path fill=\"none\" stroke=\"black\" d=\"M99,-215.697C99,-207.983 99,-198.712 99,-190.112\"/>\r\n",
       "<polygon fill=\"black\" stroke=\"black\" points=\"102.5,-190.104 99,-180.104 95.5001,-190.104 102.5,-190.104\"/>\r\n",
       "</g>\r\n",
       "<!-- 5 -->\r\n",
       "<g id=\"node6\" class=\"node\"><title>5</title>\r\n",
       "<ellipse fill=\"#136ed4\" stroke=\"black\" cx=\"171\" cy=\"-162\" rx=\"27\" ry=\"18\"/>\r\n",
       "<text text-anchor=\"middle\" x=\"171\" y=\"-158.3\" font-family=\"Times New Roman,serif\" font-size=\"14.00\">mul</text>\r\n",
       "</g>\r\n",
       "<!-- 4&#45;&gt;5 -->\r\n",
       "<g id=\"edge12\" class=\"edge\"><title>4&#45;&gt;5</title>\r\n",
       "<path fill=\"none\" stroke=\"black\" d=\"M171,-215.697C171,-207.983 171,-198.712 171,-190.112\"/>\r\n",
       "<polygon fill=\"black\" stroke=\"black\" points=\"174.5,-190.104 171,-180.104 167.5,-190.104 174.5,-190.104\"/>\r\n",
       "</g>\r\n",
       "<!-- 8 -->\r\n",
       "<g id=\"node9\" class=\"node\"><title>8</title>\r\n",
       "<ellipse fill=\"#136ed4\" stroke=\"black\" cx=\"243\" cy=\"-162\" rx=\"27\" ry=\"18\"/>\r\n",
       "<text text-anchor=\"middle\" x=\"243\" y=\"-158.3\" font-family=\"Times New Roman,serif\" font-size=\"14.00\">mul</text>\r\n",
       "</g>\r\n",
       "<!-- 4&#45;&gt;8 -->\r\n",
       "<g id=\"edge11\" class=\"edge\"><title>4&#45;&gt;8</title>\r\n",
       "<path fill=\"none\" stroke=\"black\" d=\"M185.57,-218.834C195.75,-208.938 209.524,-195.546 221.031,-184.359\"/>\r\n",
       "<polygon fill=\"black\" stroke=\"black\" points=\"223.474,-186.865 228.204,-177.385 218.595,-181.846 223.474,-186.865\"/>\r\n",
       "</g>\r\n",
       "<!-- 6 -->\r\n",
       "<g id=\"node7\" class=\"node\"><title>6</title>\r\n",
       "<ellipse fill=\"#60a6f6\" stroke=\"black\" cx=\"95\" cy=\"-90\" rx=\"30.5947\" ry=\"18\"/>\r\n",
       "<text text-anchor=\"middle\" x=\"95\" y=\"-86.3\" font-family=\"Times New Roman,serif\" font-size=\"14.00\">0.864</text>\r\n",
       "</g>\r\n",
       "<!-- 5&#45;&gt;6 -->\r\n",
       "<g id=\"edge4\" class=\"edge\"><title>5&#45;&gt;6</title>\r\n",
       "<path fill=\"none\" stroke=\"black\" d=\"M155.62,-146.834C144.946,-137.003 130.528,-123.723 118.432,-112.582\"/>\r\n",
       "<polygon fill=\"black\" stroke=\"black\" points=\"120.607,-109.827 110.88,-105.626 115.864,-114.976 120.607,-109.827\"/>\r\n",
       "</g>\r\n",
       "<!-- 7 -->\r\n",
       "<g id=\"node8\" class=\"node\"><title>7</title>\r\n",
       "<ellipse fill=\"#60a6f6\" stroke=\"black\" cx=\"171\" cy=\"-90\" rx=\"27\" ry=\"18\"/>\r\n",
       "<text text-anchor=\"middle\" x=\"171\" y=\"-86.3\" font-family=\"Times New Roman,serif\" font-size=\"14.00\">X0</text>\r\n",
       "</g>\r\n",
       "<!-- 5&#45;&gt;7 -->\r\n",
       "<g id=\"edge3\" class=\"edge\"><title>5&#45;&gt;7</title>\r\n",
       "<path fill=\"none\" stroke=\"black\" d=\"M171,-143.697C171,-135.983 171,-126.712 171,-118.112\"/>\r\n",
       "<polygon fill=\"black\" stroke=\"black\" points=\"174.5,-118.104 171,-108.104 167.5,-118.104 174.5,-118.104\"/>\r\n",
       "</g>\r\n",
       "<!-- 9 -->\r\n",
       "<g id=\"node10\" class=\"node\"><title>9</title>\r\n",
       "<ellipse fill=\"#136ed4\" stroke=\"black\" cx=\"243\" cy=\"-90\" rx=\"27\" ry=\"18\"/>\r\n",
       "<text text-anchor=\"middle\" x=\"243\" y=\"-86.3\" font-family=\"Times New Roman,serif\" font-size=\"14.00\">div</text>\r\n",
       "</g>\r\n",
       "<!-- 8&#45;&gt;9 -->\r\n",
       "<g id=\"edge10\" class=\"edge\"><title>8&#45;&gt;9</title>\r\n",
       "<path fill=\"none\" stroke=\"black\" d=\"M243,-143.697C243,-135.983 243,-126.712 243,-118.112\"/>\r\n",
       "<polygon fill=\"black\" stroke=\"black\" points=\"246.5,-118.104 243,-108.104 239.5,-118.104 246.5,-118.104\"/>\r\n",
       "</g>\r\n",
       "<!-- 12 -->\r\n",
       "<g id=\"node13\" class=\"node\"><title>12</title>\r\n",
       "<ellipse fill=\"#136ed4\" stroke=\"black\" cx=\"315\" cy=\"-90\" rx=\"27\" ry=\"18\"/>\r\n",
       "<text text-anchor=\"middle\" x=\"315\" y=\"-86.3\" font-family=\"Times New Roman,serif\" font-size=\"14.00\">sub</text>\r\n",
       "</g>\r\n",
       "<!-- 8&#45;&gt;12 -->\r\n",
       "<g id=\"edge9\" class=\"edge\"><title>8&#45;&gt;12</title>\r\n",
       "<path fill=\"none\" stroke=\"black\" d=\"M257.57,-146.834C267.75,-136.938 281.524,-123.546 293.031,-112.359\"/>\r\n",
       "<polygon fill=\"black\" stroke=\"black\" points=\"295.474,-114.865 300.204,-105.385 290.595,-109.846 295.474,-114.865\"/>\r\n",
       "</g>\r\n",
       "<!-- 10 -->\r\n",
       "<g id=\"node11\" class=\"node\"><title>10</title>\r\n",
       "<ellipse fill=\"#60a6f6\" stroke=\"black\" cx=\"171\" cy=\"-18\" rx=\"27\" ry=\"18\"/>\r\n",
       "<text text-anchor=\"middle\" x=\"171\" y=\"-14.3\" font-family=\"Times New Roman,serif\" font-size=\"14.00\">X3</text>\r\n",
       "</g>\r\n",
       "<!-- 9&#45;&gt;10 -->\r\n",
       "<g id=\"edge6\" class=\"edge\"><title>9&#45;&gt;10</title>\r\n",
       "<path fill=\"none\" stroke=\"black\" d=\"M228.43,-74.8345C218.25,-64.9376 204.476,-51.5462 192.969,-40.3591\"/>\r\n",
       "<polygon fill=\"black\" stroke=\"black\" points=\"195.405,-37.8461 185.796,-33.3847 190.526,-42.865 195.405,-37.8461\"/>\r\n",
       "</g>\r\n",
       "<!-- 11 -->\r\n",
       "<g id=\"node12\" class=\"node\"><title>11</title>\r\n",
       "<ellipse fill=\"#60a6f6\" stroke=\"black\" cx=\"243\" cy=\"-18\" rx=\"27\" ry=\"18\"/>\r\n",
       "<text text-anchor=\"middle\" x=\"243\" y=\"-14.3\" font-family=\"Times New Roman,serif\" font-size=\"14.00\">X1</text>\r\n",
       "</g>\r\n",
       "<!-- 9&#45;&gt;11 -->\r\n",
       "<g id=\"edge5\" class=\"edge\"><title>9&#45;&gt;11</title>\r\n",
       "<path fill=\"none\" stroke=\"black\" d=\"M243,-71.6966C243,-63.9827 243,-54.7125 243,-46.1124\"/>\r\n",
       "<polygon fill=\"black\" stroke=\"black\" points=\"246.5,-46.1043 243,-36.1043 239.5,-46.1044 246.5,-46.1043\"/>\r\n",
       "</g>\r\n",
       "<!-- 13 -->\r\n",
       "<g id=\"node14\" class=\"node\"><title>13</title>\r\n",
       "<ellipse fill=\"#60a6f6\" stroke=\"black\" cx=\"315\" cy=\"-18\" rx=\"27\" ry=\"18\"/>\r\n",
       "<text text-anchor=\"middle\" x=\"315\" y=\"-14.3\" font-family=\"Times New Roman,serif\" font-size=\"14.00\">X3</text>\r\n",
       "</g>\r\n",
       "<!-- 12&#45;&gt;13 -->\r\n",
       "<g id=\"edge8\" class=\"edge\"><title>12&#45;&gt;13</title>\r\n",
       "<path fill=\"none\" stroke=\"black\" d=\"M315,-71.6966C315,-63.9827 315,-54.7125 315,-46.1124\"/>\r\n",
       "<polygon fill=\"black\" stroke=\"black\" points=\"318.5,-46.1043 315,-36.1043 311.5,-46.1044 318.5,-46.1043\"/>\r\n",
       "</g>\r\n",
       "<!-- 14 -->\r\n",
       "<g id=\"node15\" class=\"node\"><title>14</title>\r\n",
       "<ellipse fill=\"#60a6f6\" stroke=\"black\" cx=\"387\" cy=\"-18\" rx=\"27\" ry=\"18\"/>\r\n",
       "<text text-anchor=\"middle\" x=\"387\" y=\"-14.3\" font-family=\"Times New Roman,serif\" font-size=\"14.00\">X0</text>\r\n",
       "</g>\r\n",
       "<!-- 12&#45;&gt;14 -->\r\n",
       "<g id=\"edge7\" class=\"edge\"><title>12&#45;&gt;14</title>\r\n",
       "<path fill=\"none\" stroke=\"black\" d=\"M329.57,-74.8345C339.75,-64.9376 353.524,-51.5462 365.031,-40.3591\"/>\r\n",
       "<polygon fill=\"black\" stroke=\"black\" points=\"367.474,-42.865 372.204,-33.3847 362.595,-37.8461 367.474,-42.865\"/>\r\n",
       "</g>\r\n",
       "</g>\r\n",
       "</svg>\r\n"
      ],
      "text/plain": [
       "<graphviz.files.Source at 0x1e1a080bc48>"
      ]
     },
     "execution_count": 11,
     "metadata": {},
     "output_type": "execute_result"
    }
   ],
   "source": [
    "dot_data = est_gp._program.export_graphviz()\n",
    "graph = graphviz.Source(dot_data)\n",
    "graph"
   ]
  },
  {
   "cell_type": "code",
   "execution_count": 12,
   "metadata": {
    "ExecuteTime": {
     "end_time": "2022-05-11T18:49:51.698631Z",
     "start_time": "2022-05-11T18:49:51.674624Z"
    }
   },
   "outputs": [],
   "source": [
    "converter = {\n",
    "    'add': lambda x, y : x + y,\n",
    "    'sub': lambda x, y : x - y,\n",
    "    'mul': lambda x, y : x*y,\n",
    "    'div': lambda x, y : x/y,\n",
    "    'sqrt': lambda x : x**0.5,\n",
    "    'log': lambda x : log(x),\n",
    "    'abs': lambda x : abs(x),\n",
    "    'neg': lambda x : -x,\n",
    "    'inv': lambda x : 1/x,\n",
    "    'max': lambda x, y : max(x, y),\n",
    "    'min': lambda x, y : min(x, y),\n",
    "    'sin': lambda x : sin(x),\n",
    "    'cos': lambda x : cos(x),\n",
    "    'pow': lambda x, y : x**y,\n",
    "}"
   ]
  },
  {
   "cell_type": "code",
   "execution_count": 13,
   "metadata": {
    "ExecuteTime": {
     "end_time": "2022-05-11T18:49:53.986203Z",
     "start_time": "2022-05-11T18:49:53.195064Z"
    }
   },
   "outputs": [
    {
     "data": {
      "text/latex": [
       "$\\displaystyle \\frac{0.864 X_{0} X_{1}}{X_{3} \\left(- X_{0} + X_{3}\\right)} - X_{1} + X_{3}$"
      ],
      "text/plain": [
       "0.864*X0*X1/(X3*(-X0 + X3)) - X1 + X3"
      ]
     },
     "execution_count": 13,
     "metadata": {},
     "output_type": "execute_result"
    }
   ],
   "source": [
    "next_e = sympify(str(est_gp._program), locals=converter)\n",
    "next_e"
   ]
  },
  {
   "cell_type": "code",
   "execution_count": 18,
   "metadata": {
    "ExecuteTime": {
     "end_time": "2022-05-11T19:49:36.471026Z",
     "start_time": "2022-05-11T19:49:36.443040Z"
    }
   },
   "outputs": [
    {
     "name": "stdout",
     "output_type": "stream",
     "text": [
      "R2 (Entrenamiento): 0.9707900793644232\n",
      "R2: (Pruebas): 0.9690969221918436\n"
     ]
    }
   ],
   "source": [
    "score_gp1 = est_gp.score(X_train, y_train)\n",
    "print('R2 (Entrenamiento):', score_gp1)\n",
    "score_gp2 = est_gp.score(X_test, y_test)\n",
    "print('R2: (Pruebas):', score_gp2)"
   ]
  },
  {
   "cell_type": "code",
   "execution_count": null,
   "metadata": {
    "ExecuteTime": {
     "end_time": "2022-05-11T20:13:13.503342Z",
     "start_time": "2022-05-11T20:13:13.354420Z"
    }
   },
   "outputs": [],
   "source": [
    "y_gp = est_gp.predict(X_test)\n",
    "score_gp = est_gp.score(X_test, y_test)\n",
    "print('R2: (Predicción):', score_gp)"
   ]
  },
  {
   "cell_type": "code",
   "execution_count": null,
   "metadata": {},
   "outputs": [],
   "source": []
  }
 ],
 "metadata": {
  "kernelspec": {
   "display_name": "Python 3",
   "language": "python",
   "name": "python3"
  },
  "language_info": {
   "codemirror_mode": {
    "name": "ipython",
    "version": 3
   },
   "file_extension": ".py",
   "mimetype": "text/x-python",
   "name": "python",
   "nbconvert_exporter": "python",
   "pygments_lexer": "ipython3",
   "version": "3.7.7"
  }
 },
 "nbformat": 4,
 "nbformat_minor": 4
}
