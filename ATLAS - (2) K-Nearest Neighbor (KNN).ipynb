{
 "cells": [
  {
   "cell_type": "markdown",
   "metadata": {},
   "source": [
    "## K-Nearest Neighbor (KNN)\n",
    "KNN usa la llamada \"similaridad de características\" para predecir los valores de nuevos puntos de datos, lo que significa que el valor predicho corresponde a un valor en función de su similitud con los puntos del conjunto de entrenamiento.<br>\n",
    "El proceso sigue los siguientes pasos:\n",
    "1. Se calcula la distancia entre el punto desconocido y los puntos conocidos en el conjunto de datos. Los métodos más usados para calcularla son: euclidiana, manhattan y hamming (ésta última para variables categóricas).\n",
    "2. Se seleccionan los K puntos conocidos más cercanos al punto desconocido. Este valor (K) es el que debe optimizarse ya que la cantidad de K influye en la precisión de la predicción. Así, para calcularlo se pueden usar el método de la curva en forma de codo o el GridSearch.\n",
    "3. Se calcula el promedio de tales K puntos y esta será la predicción del valor del punto desconocido."
   ]
  },
  {
   "cell_type": "code",
   "execution_count": 55,
   "metadata": {
    "ExecuteTime": {
     "end_time": "2022-04-22T16:45:47.011182Z",
     "start_time": "2022-04-22T16:45:46.994197Z"
    }
   },
   "outputs": [],
   "source": [
    "import numpy as np\n",
    "from sklearn.model_selection import train_test_split\n",
    "from sklearn.preprocessing import MinMaxScaler\n",
    "from sklearn.neighbors import KNeighborsRegressor\n",
    "from sklearn.metrics import mean_squared_error\n",
    "from sklearn.utils.random import check_random_state\n",
    "from sklearn.model_selection import GridSearchCV"
   ]
  },
  {
   "cell_type": "markdown",
   "metadata": {},
   "source": [
    "### Ejemplo KNN\n",
    "Se aplicará KNN para predecir la distancia entre un par de puntos (x,y) y (x1,y1), uno de ellos constante.$$ d = \\sqrt{(x1-x)^2 + (y1 - y)^2} $$\n",
    "\n",
    "### Generar el conjunto de datos\n",
    "Para generar el conjunto de datos se calculará la distancia entre un conjunto de 5000 puntos (x,y) aleatorios, así, el modelo de regresión se ajustará a una proporción del 80% del conjunto y el 20% restante estará destinado a la predicción."
   ]
  },
  {
   "cell_type": "code",
   "execution_count": 56,
   "metadata": {
    "ExecuteTime": {
     "end_time": "2022-04-22T16:45:49.012615Z",
     "start_time": "2022-04-22T16:45:48.958652Z"
    }
   },
   "outputs": [],
   "source": [
    "def calcular_distancia(X,Y,XF,YF):\n",
    "    return np.round(np.sqrt(np.power(XF-X,2)+np.power(YF-Y,2)),2)\n",
    "\n",
    "XF = 5\n",
    "YF = 12.5\n",
    "\n",
    "rng = check_random_state(0)\n",
    "\n",
    "X = np.round(rng.uniform(1, 11, 10000).reshape(5000, 2),2)\n",
    "XFs=[[XF] for i in range(5000)]\n",
    "YFs=[[YF] for i in range(5000)]\n",
    "X=np.append(X, XFs, axis=1)\n",
    "X=np.append(X, YFs, axis=1)\n",
    "Y = calcular_distancia(X[:, 0],X[:, 1],XF,YF)\n",
    "x_train, x_test, y_train, y_test = train_test_split(X,Y,test_size=0.2,random_state=42)"
   ]
  },
  {
   "cell_type": "markdown",
   "metadata": {},
   "source": [
    "### Crear y ajustar el modelo\n",
    "Se utilizará el GridSearch para escoger el valor óptimo de K."
   ]
  },
  {
   "cell_type": "code",
   "execution_count": 57,
   "metadata": {
    "ExecuteTime": {
     "end_time": "2022-04-22T16:45:53.500954Z",
     "start_time": "2022-04-22T16:45:50.179968Z"
    }
   },
   "outputs": [
    {
     "name": "stdout",
     "output_type": "stream",
     "text": [
      "{'n_neighbors': 5}\n"
     ]
    }
   ],
   "source": [
    "knn = KNeighborsRegressor()\n",
    "params = {'n_neighbors':[1,2,3,4,5,6,7,8,9,10,11,12,13,14,15,16,17,18,19,20]}\n",
    "modelo = GridSearchCV(knn,params,cv=20)\n",
    "modelo.fit(x_train,y_train)\n",
    "print(modelo.best_params_)"
   ]
  },
  {
   "cell_type": "markdown",
   "metadata": {},
   "source": [
    "El valor óptimo es $ K = 5 $ con lo cual se ajustará este parámetro en el modelo para realizar predicciones más precisas.<br>"
   ]
  },
  {
   "cell_type": "code",
   "execution_count": 58,
   "metadata": {
    "ExecuteTime": {
     "end_time": "2022-04-22T16:45:53.531936Z",
     "start_time": "2022-04-22T16:45:53.506948Z"
    }
   },
   "outputs": [
    {
     "data": {
      "text/plain": [
       "KNeighborsRegressor()"
      ]
     },
     "execution_count": 58,
     "metadata": {},
     "output_type": "execute_result"
    }
   ],
   "source": [
    "modelo = KNeighborsRegressor(n_neighbors=5)\n",
    "modelo.fit(x_train,y_train)"
   ]
  },
  {
   "cell_type": "markdown",
   "metadata": {},
   "source": [
    "### Métricas\n",
    "Como KNN no es un modelo lineal, La métrica será el **RMSE** y no $ R^2 $"
   ]
  },
  {
   "cell_type": "code",
   "execution_count": 59,
   "metadata": {
    "ExecuteTime": {
     "end_time": "2022-04-22T16:45:53.640800Z",
     "start_time": "2022-04-22T16:45:53.536931Z"
    }
   },
   "outputs": [
    {
     "name": "stdout",
     "output_type": "stream",
     "text": [
      "RMSE =  0.04128345915739135\n"
     ]
    }
   ],
   "source": [
    "training_preds = modelo.predict(x_train)\n",
    "rmse = np.sqrt(mean_squared_error(y_train,training_preds))\n",
    "print(\"RMSE = \",rmse)"
   ]
  },
  {
   "cell_type": "markdown",
   "metadata": {},
   "source": [
    "### Predicciones con datos desconocidos\n",
    "Se usará el 20% de los datos (x_test,y_test) para probar el modelo de regresión con datos que no se tuvieron en cuenta en su 'entrenamiento'."
   ]
  },
  {
   "cell_type": "code",
   "execution_count": 60,
   "metadata": {
    "ExecuteTime": {
     "end_time": "2022-04-22T16:45:57.286436Z",
     "start_time": "2022-04-22T16:45:57.265449Z"
    }
   },
   "outputs": [
    {
     "name": "stdout",
     "output_type": "stream",
     "text": [
      "RMSE =  0.050139884323759674\n"
     ]
    }
   ],
   "source": [
    "testing_preds = modelo.predict(x_test)\n",
    "rmse = np.sqrt(mean_squared_error(y_test,testing_preds))\n",
    "print(\"RMSE = \",rmse)"
   ]
  }
 ],
 "metadata": {
  "kernelspec": {
   "display_name": "Python 3",
   "language": "python",
   "name": "python3"
  },
  "language_info": {
   "codemirror_mode": {
    "name": "ipython",
    "version": 3
   },
   "file_extension": ".py",
   "mimetype": "text/x-python",
   "name": "python",
   "nbconvert_exporter": "python",
   "pygments_lexer": "ipython3",
   "version": "3.7.7"
  }
 },
 "nbformat": 4,
 "nbformat_minor": 4
}
